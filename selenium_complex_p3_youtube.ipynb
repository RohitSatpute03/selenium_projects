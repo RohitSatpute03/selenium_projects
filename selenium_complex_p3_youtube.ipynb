{
 "cells": [
  {
   "cell_type": "code",
   "execution_count": 2,
   "metadata": {},
   "outputs": [],
   "source": [
    "from selenium import webdriver\n",
    "from selenium.webdriver.chrome.service import Service \n",
    "from webdriver_manager.chrome import ChromeDriverManager\n",
    "\n",
    "driver = webdriver.Chrome(service=Service(ChromeDriverManager().install()))\n",
    "driver.get('https://www.youtube.com')\n"
   ]
  },
  {
   "cell_type": "code",
   "execution_count": 4,
   "metadata": {},
   "outputs": [
    {
     "data": {
      "text/plain": [
       "''"
      ]
     },
     "execution_count": 4,
     "metadata": {},
     "output_type": "execute_result"
    }
   ],
   "source": [
    "from selenium.webdriver.common.by import By\n",
    "\n",
    "input_box = driver.find_element(By.XPATH, \"//input[@id='search']\")\n",
    "input_box.text"
   ]
  },
  {
   "cell_type": "code",
   "execution_count": 5,
   "metadata": {},
   "outputs": [],
   "source": [
    "input_box.send_keys('arijit singh top 50 songs')\n",
    "input_box.submit()"
   ]
  },
  {
   "cell_type": "code",
   "execution_count": 6,
   "metadata": {},
   "outputs": [
    {
     "ename": "InvalidSelectorException",
     "evalue": "Message: invalid selector\nfrom javascript error: {\"status\":32,\"value\":\"Unable to locate an element with the xpath expression  because of the following error:\\nSyntaxError: Failed to execute 'evaluate' on 'Document': The string '' is not a valid XPath expression.\"}\n  (Session info: chrome=126.0.6478.127); For documentation on this error, please visit: https://www.selenium.dev/documentation/webdriver/troubleshooting/errors#invalid-selector-exception\nStacktrace:\n0   chromedriver                        0x0000000104852a80 chromedriver + 4385408\n1   chromedriver                        0x000000010484b38c chromedriver + 4354956\n2   chromedriver                        0x0000000104468b0c chromedriver + 281356\n3   chromedriver                        0x000000010446cfd8 chromedriver + 298968\n4   chromedriver                        0x000000010446ee58 chromedriver + 306776\n5   chromedriver                        0x000000010446eed0 chromedriver + 306896\n6   chromedriver                        0x00000001044ab114 chromedriver + 553236\n7   chromedriver                        0x00000001044e3d24 chromedriver + 785700\n8   chromedriver                        0x000000010449feec chromedriver + 507628\n9   chromedriver                        0x00000001044a08c4 chromedriver + 510148\n10  chromedriver                        0x000000010481a43c chromedriver + 4154428\n11  chromedriver                        0x000000010481eea0 chromedriver + 4173472\n12  chromedriver                        0x00000001047ffff8 chromedriver + 4046840\n13  chromedriver                        0x000000010481f78c chromedriver + 4175756\n14  chromedriver                        0x00000001047f2fb8 chromedriver + 3993528\n15  chromedriver                        0x000000010483d21c chromedriver + 4297244\n16  chromedriver                        0x000000010483d398 chromedriver + 4297624\n17  chromedriver                        0x000000010484af84 chromedriver + 4353924\n18  libsystem_pthread.dylib             0x000000019ddf6f94 _pthread_start + 136\n19  libsystem_pthread.dylib             0x000000019ddf1d34 thread_start + 8\n",
     "output_type": "error",
     "traceback": [
      "\u001b[0;31m---------------------------------------------------------------------------\u001b[0m",
      "\u001b[0;31mInvalidSelectorException\u001b[0m                  Traceback (most recent call last)",
      "Cell \u001b[0;32mIn[6], line 3\u001b[0m\n\u001b[1;32m      1\u001b[0m \u001b[38;5;66;03m# google autocapitalizes View full playlist to VIEW FULL PLAYLIST in text box always trust inspect element\u001b[39;00m\n\u001b[0;32m----> 3\u001b[0m playlist_link \u001b[38;5;241m=\u001b[39m \u001b[43mdriver\u001b[49m\u001b[38;5;241;43m.\u001b[39;49m\u001b[43mfind_element\u001b[49m\u001b[43m(\u001b[49m\u001b[43mBy\u001b[49m\u001b[38;5;241;43m.\u001b[39;49m\u001b[43mXPATH\u001b[49m\u001b[43m,\u001b[49m\u001b[43m \u001b[49m\u001b[38;5;124;43m\"\u001b[39;49m\u001b[38;5;124;43m\"\u001b[39;49m\u001b[43m)\u001b[49m\n\u001b[1;32m      4\u001b[0m playlist_link\u001b[38;5;241m.\u001b[39mclick()\n",
      "File \u001b[0;32m/Library/Frameworks/Python.framework/Versions/3.11/lib/python3.11/site-packages/selenium/webdriver/remote/webdriver.py:748\u001b[0m, in \u001b[0;36mWebDriver.find_element\u001b[0;34m(self, by, value)\u001b[0m\n\u001b[1;32m    745\u001b[0m     by \u001b[38;5;241m=\u001b[39m By\u001b[38;5;241m.\u001b[39mCSS_SELECTOR\n\u001b[1;32m    746\u001b[0m     value \u001b[38;5;241m=\u001b[39m \u001b[38;5;124mf\u001b[39m\u001b[38;5;124m'\u001b[39m\u001b[38;5;124m[name=\u001b[39m\u001b[38;5;124m\"\u001b[39m\u001b[38;5;132;01m{\u001b[39;00mvalue\u001b[38;5;132;01m}\u001b[39;00m\u001b[38;5;124m\"\u001b[39m\u001b[38;5;124m]\u001b[39m\u001b[38;5;124m'\u001b[39m\n\u001b[0;32m--> 748\u001b[0m \u001b[38;5;28;01mreturn\u001b[39;00m \u001b[38;5;28;43mself\u001b[39;49m\u001b[38;5;241;43m.\u001b[39;49m\u001b[43mexecute\u001b[49m\u001b[43m(\u001b[49m\u001b[43mCommand\u001b[49m\u001b[38;5;241;43m.\u001b[39;49m\u001b[43mFIND_ELEMENT\u001b[49m\u001b[43m,\u001b[49m\u001b[43m \u001b[49m\u001b[43m{\u001b[49m\u001b[38;5;124;43m\"\u001b[39;49m\u001b[38;5;124;43musing\u001b[39;49m\u001b[38;5;124;43m\"\u001b[39;49m\u001b[43m:\u001b[49m\u001b[43m \u001b[49m\u001b[43mby\u001b[49m\u001b[43m,\u001b[49m\u001b[43m \u001b[49m\u001b[38;5;124;43m\"\u001b[39;49m\u001b[38;5;124;43mvalue\u001b[39;49m\u001b[38;5;124;43m\"\u001b[39;49m\u001b[43m:\u001b[49m\u001b[43m \u001b[49m\u001b[43mvalue\u001b[49m\u001b[43m}\u001b[49m\u001b[43m)\u001b[49m[\u001b[38;5;124m\"\u001b[39m\u001b[38;5;124mvalue\u001b[39m\u001b[38;5;124m\"\u001b[39m]\n",
      "File \u001b[0;32m/Library/Frameworks/Python.framework/Versions/3.11/lib/python3.11/site-packages/selenium/webdriver/remote/webdriver.py:354\u001b[0m, in \u001b[0;36mWebDriver.execute\u001b[0;34m(self, driver_command, params)\u001b[0m\n\u001b[1;32m    352\u001b[0m response \u001b[38;5;241m=\u001b[39m \u001b[38;5;28mself\u001b[39m\u001b[38;5;241m.\u001b[39mcommand_executor\u001b[38;5;241m.\u001b[39mexecute(driver_command, params)\n\u001b[1;32m    353\u001b[0m \u001b[38;5;28;01mif\u001b[39;00m response:\n\u001b[0;32m--> 354\u001b[0m     \u001b[38;5;28;43mself\u001b[39;49m\u001b[38;5;241;43m.\u001b[39;49m\u001b[43merror_handler\u001b[49m\u001b[38;5;241;43m.\u001b[39;49m\u001b[43mcheck_response\u001b[49m\u001b[43m(\u001b[49m\u001b[43mresponse\u001b[49m\u001b[43m)\u001b[49m\n\u001b[1;32m    355\u001b[0m     response[\u001b[38;5;124m\"\u001b[39m\u001b[38;5;124mvalue\u001b[39m\u001b[38;5;124m\"\u001b[39m] \u001b[38;5;241m=\u001b[39m \u001b[38;5;28mself\u001b[39m\u001b[38;5;241m.\u001b[39m_unwrap_value(response\u001b[38;5;241m.\u001b[39mget(\u001b[38;5;124m\"\u001b[39m\u001b[38;5;124mvalue\u001b[39m\u001b[38;5;124m\"\u001b[39m, \u001b[38;5;28;01mNone\u001b[39;00m))\n\u001b[1;32m    356\u001b[0m     \u001b[38;5;28;01mreturn\u001b[39;00m response\n",
      "File \u001b[0;32m/Library/Frameworks/Python.framework/Versions/3.11/lib/python3.11/site-packages/selenium/webdriver/remote/errorhandler.py:229\u001b[0m, in \u001b[0;36mErrorHandler.check_response\u001b[0;34m(self, response)\u001b[0m\n\u001b[1;32m    227\u001b[0m         alert_text \u001b[38;5;241m=\u001b[39m value[\u001b[38;5;124m\"\u001b[39m\u001b[38;5;124malert\u001b[39m\u001b[38;5;124m\"\u001b[39m]\u001b[38;5;241m.\u001b[39mget(\u001b[38;5;124m\"\u001b[39m\u001b[38;5;124mtext\u001b[39m\u001b[38;5;124m\"\u001b[39m)\n\u001b[1;32m    228\u001b[0m     \u001b[38;5;28;01mraise\u001b[39;00m exception_class(message, screen, stacktrace, alert_text)  \u001b[38;5;66;03m# type: ignore[call-arg]  # mypy is not smart enough here\u001b[39;00m\n\u001b[0;32m--> 229\u001b[0m \u001b[38;5;28;01mraise\u001b[39;00m exception_class(message, screen, stacktrace)\n",
      "\u001b[0;31mInvalidSelectorException\u001b[0m: Message: invalid selector\nfrom javascript error: {\"status\":32,\"value\":\"Unable to locate an element with the xpath expression  because of the following error:\\nSyntaxError: Failed to execute 'evaluate' on 'Document': The string '' is not a valid XPath expression.\"}\n  (Session info: chrome=126.0.6478.127); For documentation on this error, please visit: https://www.selenium.dev/documentation/webdriver/troubleshooting/errors#invalid-selector-exception\nStacktrace:\n0   chromedriver                        0x0000000104852a80 chromedriver + 4385408\n1   chromedriver                        0x000000010484b38c chromedriver + 4354956\n2   chromedriver                        0x0000000104468b0c chromedriver + 281356\n3   chromedriver                        0x000000010446cfd8 chromedriver + 298968\n4   chromedriver                        0x000000010446ee58 chromedriver + 306776\n5   chromedriver                        0x000000010446eed0 chromedriver + 306896\n6   chromedriver                        0x00000001044ab114 chromedriver + 553236\n7   chromedriver                        0x00000001044e3d24 chromedriver + 785700\n8   chromedriver                        0x000000010449feec chromedriver + 507628\n9   chromedriver                        0x00000001044a08c4 chromedriver + 510148\n10  chromedriver                        0x000000010481a43c chromedriver + 4154428\n11  chromedriver                        0x000000010481eea0 chromedriver + 4173472\n12  chromedriver                        0x00000001047ffff8 chromedriver + 4046840\n13  chromedriver                        0x000000010481f78c chromedriver + 4175756\n14  chromedriver                        0x00000001047f2fb8 chromedriver + 3993528\n15  chromedriver                        0x000000010483d21c chromedriver + 4297244\n16  chromedriver                        0x000000010483d398 chromedriver + 4297624\n17  chromedriver                        0x000000010484af84 chromedriver + 4353924\n18  libsystem_pthread.dylib             0x000000019ddf6f94 _pthread_start + 136\n19  libsystem_pthread.dylib             0x000000019ddf1d34 thread_start + 8\n"
     ]
    }
   ],
   "source": [
    "# google autocapitalizes View full playlist to VIEW FULL PLAYLIST in text box always trust inspect element\n",
    "\n",
    "playlist_link = driver.find_element(By.XPATH, \"\")\n",
    "playlist_link.click()"
   ]
  },
  {
   "cell_type": "code",
   "execution_count": 7,
   "metadata": {},
   "outputs": [],
   "source": [
    "# //a[@id=\"video-title\"] wont work as hidden classes\n",
    "\n",
    "playlist_link = driver.find_element(By.XPATH, \"//a[contains(text(), 'View full playlist')]\")\n",
    "playlist_link.click()"
   ]
  },
  {
   "cell_type": "code",
   "execution_count": 9,
   "metadata": {},
   "outputs": [
    {
     "name": "stdout",
     "output_type": "stream",
     "text": [
      "Rank 1 : Full Song: KHAIRIYAT (BONUS TRACK) | CHHICHHORE | Sushant, Shraddha | Pritam, Amitabh B|Arijit Singh\n",
      "Rank 2 : Phir Bhi Tumko Chaahunga - Full Song | Arijit Singh | Arjun K & Shraddha K | Mithoon, Manoj M\n",
      "Rank 3 : Jagga Jasoos: Galti Se Mistake Video Song | Ranbir, Katrina | Pritam, Arijit, Amit | Amitabh B\n",
      "Rank 4 : Tera Fitoor Lyrical - Genius | Utkarsh Sharma, Ishita Chauhan | Arijit Singh | Himesh Reshammiya\n",
      "Rank 5 : Ve Maahi | Kesari | Akshay Kumar & Parineeti Chopra | Arijit Singh & Asees Kaur | Tanishk Bagchi\n",
      "Rank 6 : Nashe Si Chadh Gayi Song | Befikre | Ranveer Singh, Vaani Kapoor | Arijit Singh | Vishal and Shekhar\n",
      "Rank 7 : SANAM RE Title Song FULL VIDEO | Pulkit Samrat, Yami Gautam, Urvashi Rautela | Divya Khosla Kumar\n",
      "Rank 8 : Arijit Singh: Pachtaoge | Vicky Kaushal, Nora Fatehi |Jaani, B Praak, Arvindr Khaira | Bhushan Kumar\n",
      "Rank 9 : Main Tera Boyfriend Song | Raabta | Arijit S | Neha K Meet Bros | Sushant Singh Rajput Kriti Sanon\n",
      "Rank 10 : Ae Dil Hai Mushkil Title Track Full Video - Ranbir, Anushka, Aishwarya|Arijit|Pritam\n",
      "Rank 11 : Gerua - Shah Rukh Khan | Kajol | Dilwale | Pritam | SRK Kajol Official New Song Video 2015\n",
      "Rank 12 : Arijit Singh : Lambiyaan Si Judaiyaan With Lyrics | Raabta | Sushant Rajput, Kriti Sanon | T-Series\n",
      "Rank 13 : Hawayein Lyric Video - Jab Harry Met Sejal |Shah Rukh Khan, Anushka|Arijit Singh|Pritam\n",
      "Rank 14 : Ghungroo Song | WAR | Hrithik Roshan, Vaani Kapoor | Arijit Singh, Shilpa | Vishal & Shekhar, Kumaar\n",
      "Rank 15 : Nashe Si Chadh Gayi | Full Song | Befikre, Ranveer Singh, Vaani Kapoor, Arijit Singh, Vishal-Shekhar\n",
      "Rank 16 : Zaalima | Raees | Shah Rukh Khan & Mahira Khan | Arijit Singh & Harshdeep Kaur | JAM8 | Pritam\n",
      "Rank 17 : \"Tum Hi Ho\" Aashiqui 2 Full Song With Lyrics | Aditya Roy Kapur, Shraddha Kapoor\n",
      "Rank 18 : Chahun Main Ya Naa Full Video Song Aashiqui 2 | Aditya Roy Kapur, Shraddha Kapoor\n",
      "Rank 19 : Agar Tum Saath Ho FULL AUDIO Song | Tamasha | Ranbir Kapoor, Deepika Padukone | T-Series\n",
      "Rank 20 : Full Video: Tera Yaar Hoon Main | Sonu Ke Titu Ki Sweety | Arijit Singh Rochak Kohli | Song 2018\n",
      "Rank 21 : Channa Mereya - Lyric Video | Ae Dil Hai Mushkil | Karan Johar | Ranbir | Anushka | Pritam | Arijit\n",
      "Rank 22 : Pal Full Video - Jalebi|Arijit Singh|Shreya Ghoshal|Rhea & Varun|Javed - Mohsin\n",
      "Rank 23 : Agar Tum Saath Ho - Full Song - ALKA YAGNIK and ARIJIT SINGH\n",
      "Rank 24 : Qaafirana | Kedarnath | Sushant Rajput | Sara Ali Khan | Arijit Singh & Nikhita | Amit Trivedi\n",
      "Rank 25 : Shayad - Love Aaj Kal | Kartik | Sara | Arushi | Pritam | Arijit Singh\n",
      "Rank 26 : Humdard Full Video Song | Ek Villain | Arijit Singh | Mithoon\n",
      "Rank 27 : \"Tum Hi Ho Aashiqui 2\" Full Video Song HD | Aditya Roy Kapur, Shraddha Kapoor | Music - Mithoon\n",
      "Rank 28 : Palat Tera Hero Idhar Hai (Full Video) Song Main Tera Hero | Arijit Singh | Varun Dhawan\n",
      "Rank 29 : Main Tera Boyfriend Full Video | Raabta | Arijit Singh | Neha Kakkar | Sushant Singh Kriti Sanon\n",
      "Rank 30 : Lyrical: Thodi Jagah Video | Riteish D, Sidharth M, Tara S | Arijit Singh | Tanishk Bagchi\n",
      "Rank 31 : The Breakup Song - Ae Dil Hai Mushkil | Latest Official Song 2016 | Pritam | Arijit I Badshah\n",
      "Rank 32 : Lyrical: Khairiyat | Chhichhore | Nitesh Tiwari | Arijit Singh | Sushant, Shraddha | Pritam\n",
      "Rank 33 : Hamari Adhuri Kahani Title Track Full Video - Emraan Hashmi,Vidya Balan|Arijit Singh\n",
      "Rank 34 : Soch Na Sake Full Audio | Lyrics | Arijit Singh, Amaal Mallik & Tulsi Kumar | Airlift\n",
      "Rank 35 : Full Song: Tujhe Kitna Chahne Lage | Kabir Singh | Mithoon Feat. Arijit Singh | Shahid K, Kiara A\n",
      "Rank 36 : Ae Dil Hai Mushkil - Full Song | Aishwarya | Ranbir | Anushka | @pritam7415 | @SoulfulArijitSingh\n",
      "Rank 37 : Pal Pal Dil Ke Paas - Title | Arijit Singh | Karan Deol, Sahher | Parampara, Sachet, Rishi Rich\n",
      "Rank 38 : Arijit Singh : Lambiyaan Si Judaiyaan Full Song | Raabta | Sushant Rajput, Kriti Sanon | T-Series\n",
      "Rank 39 : Suno Na Sangemarmar Arijit singh 1080p HD blu-ray\n",
      "Rank 40 : Kalank - First Class | Varun Dhawan , Alia Bhatt , Kiara Advani | Arijit Singh | Pritam | Amitabh B\n",
      "Rank 41 : Janam Janam – Dilwale | Shah Rukh Khan | Kajol | Pritam | SRK | Kajol | Lyric Video 2015\n",
      "Rank 42 : Tukur Tukur - Dilwale | Shah Rukh Khan | Kajol | Varun | Kriti | Official New Song Video 2015\n",
      "Rank 43 : Aaj Se Teri - Lyrical | Padman | Akshay Kumar & Radhika Apte | Arijit Singh | Amit Trivedi\n",
      "Rank 44 : Manma Emotion Jaage - Dilwale | Varun Dhawan | Kriti Sanon | Party Anthem of 2016\n",
      "Rank 45 : LO MAAN LIYA Lyrical | Raaz Reboot | Arijit Singh | Emraan Hashmi, Kriti Kharbanda, Gaurav Arora\n",
      "Rank 46 : Haan Main Galat - Love Aaj Kal | Kartik, Sara | Pritam | Arijit Singh | Shashwat\n",
      "Rank 47 : Baatein Ye Kabhi Na Full Video - Khamoshiyan|Arijit Singh|Ali Fazal, Sapna|Jeet Gannguli\n",
      "Rank 48 : Arijit Singh with his soulful performance | 6th Royal Stag Mirchi Music Awards | Radio Mirchi\n",
      "Rank 49 : Shanivaar Raati Song Main Tera Hero | Arijit Singh | Varun Dhawan, Ileana D'Cruz, Nargis Fakhri\n",
      "Rank 50 : Palak Muchhal & Arijit Singh - Chahu Main Yaa Naa. (Aashiqui 2)\n"
     ]
    }
   ],
   "source": [
    "video_names = list(driver.find_elements(By.CSS_SELECTOR, \"ytd-browse div#container div#meta a#video-title\"))\n",
    "\n",
    "for rank, video in enumerate(video_names, 1):\n",
    "    print(\"Rank\", str(rank) + \" : \" + video.text)\n",
    "    if rank >= 50:\n",
    "        break"
   ]
  },
  {
   "cell_type": "code",
   "execution_count": null,
   "metadata": {},
   "outputs": [],
   "source": []
  }
 ],
 "metadata": {
  "kernelspec": {
   "display_name": "Python 3",
   "language": "python",
   "name": "python3"
  },
  "language_info": {
   "codemirror_mode": {
    "name": "ipython",
    "version": 3
   },
   "file_extension": ".py",
   "mimetype": "text/x-python",
   "name": "python",
   "nbconvert_exporter": "python",
   "pygments_lexer": "ipython3",
   "version": "3.11.4"
  }
 },
 "nbformat": 4,
 "nbformat_minor": 2
}

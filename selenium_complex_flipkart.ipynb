{
 "cells": [
  {
   "cell_type": "code",
   "execution_count": 3,
   "metadata": {},
   "outputs": [],
   "source": [
    "from selenium import webdriver"
   ]
  },
  {
   "cell_type": "code",
   "execution_count": 5,
   "metadata": {},
   "outputs": [],
   "source": [
    "from selenium.webdriver.chrome.service import Service\n",
    "from webdriver_manager.chrome import ChromeDriverManager\n",
    "\n",
    "driver = webdriver.Chrome(service=Service(ChromeDriverManager().install()))\n",
    "driver.get(\"https://www.flipkart.com\")"
   ]
  },
  {
   "cell_type": "code",
   "execution_count": 8,
   "metadata": {},
   "outputs": [],
   "source": [
    "from selenium.webdriver.common.by import By\n",
    "\n",
    "\n",
    "text_box = driver.find_element(By.CLASS_NAME,'Pke_EE')\n",
    "text_box.send_keys('Mobile Phones')\n",
    "text_box.submit()\n",
    "# can use this\n",
    "# import time\n",
    "# time.sleep(5)\n",
    "driver.implicitly_wait(3)"
   ]
  },
  {
   "cell_type": "code",
   "execution_count": 18,
   "metadata": {},
   "outputs": [
    {
     "name": "stdout",
     "output_type": "stream",
     "text": [
      "Motorola Edge 50 Fusion (Marshmallow Blue, 256 GB)\n",
      "Motorola G34 5G (Ocean Green, 128 GB)\n",
      "Motorola G34 5G (Ice Blue, 128 GB)\n",
      "Motorola G34 5G (Charcoal Black, 128 GB)\n",
      "POCO M6 Pro 5G (Power Black, 128 GB)\n",
      "REDMI 13C (Stardust Black, 128 GB)\n",
      "POCO C65 (Matte Black, 128 GB)\n",
      "Motorola g64 5G (Ice Lilac, 128 GB)\n",
      "realme 12x 5G (Twilight Purple, 128 GB)\n",
      "POCO C65 (Pastel Blue, 128 GB)\n",
      "Motorola g64 5G (Mint Green, 128 GB)\n",
      "Motorola g04s (Satin Blue, 64 GB)\n",
      "realme 12x 5G (Twilight Purple, 128 GB)\n",
      "realme 12x 5G (Woodland Green, 128 GB)\n",
      "POCO C65 (Pastel Green, 128 GB)\n",
      "realme 12x 5G (Woodland Green, 128 GB)\n",
      "Motorola g64 5G (Pearl Blue, 256 GB)\n",
      "REDMI 13C (Starshine Green, 128 GB)\n",
      "Motorola g04s (Sea Green, 64 GB)\n",
      "Motorola g64 5G (Pearl Blue, 128 GB)\n",
      "Motorola g04s (Concord Black, 64 GB)\n",
      "OnePlus Nord CE 3 Lite 5G (Pastel Lime, 256 GB)\n",
      "Motorola G34 5G (Charcoal Black, 128 GB)\n",
      "OnePlus Nord CE 3 Lite 5G (Pastel Lime, 128 GB)\n",
      "POCO C65 (Pastel Blue, 128 GB)\n",
      "OnePlus Nord CE 3 Lite 5G (Chromatic Gray, 128 GB)\n",
      "SAMSUNG Galaxy F34 5G (Mystic Green, 128 GB)\n",
      "REDMI 13C (Starfrost White, 128 GB)\n",
      "OnePlus Nord CE 3 Lite 5G (Chromatic Gray, 256 GB)\n",
      "Motorola g64 5G (Mint Green, 256 GB)\n",
      "Motorola G34 5G (Ice Blue, 128 GB)\n",
      "realme 12x 5G (Woodland Green, 128 GB)\n",
      "realme 12x 5G (Twilight Purple, 128 GB)\n",
      "Motorola G34 5G (Ocean Green, 128 GB)\n",
      "Motorola Edge 50 Pro 5G with 68W Charger (Black Beauty,...\n",
      "POCO C61 (Ethereal Blue, 64 GB)\n",
      "POCO M6 Pro 5G (Power Black, 128 GB)\n",
      "REDMI 13C (Stardust Black, 128 GB)\n",
      "Motorola Edge 50 Fusion (Marshmallow Blue, 128 GB)\n",
      "vivo T2 Pro 5G (Dune Gold, 256 GB)\n"
     ]
    }
   ],
   "source": [
    "product_names = driver.find_elements(By.CLASS_NAME, 'wjcEIp')\n",
    "for product in product_names:\n",
    "    print(product.text)"
   ]
  },
  {
   "cell_type": "code",
   "execution_count": 22,
   "metadata": {},
   "outputs": [
    {
     "name": "stdout",
     "output_type": "stream",
     "text": [
      "₹24,999\n",
      "₹11,999\n",
      "₹11,999\n",
      "₹11,999\n",
      "₹9,999\n",
      "₹7,699\n",
      "₹6,799\n",
      "₹13,999\n",
      "₹14,999\n",
      "₹6,799\n",
      "₹13,999\n",
      "₹6,999\n",
      "₹12,999\n",
      "₹12,999\n",
      "₹6,799\n",
      "₹14,999\n",
      "₹15,999\n",
      "₹7,699\n",
      "₹6,999\n",
      "₹13,999\n",
      "₹6,999\n",
      "₹18,499\n",
      "₹10,999\n",
      "₹16,782\n",
      "₹7,499\n",
      "₹16,943\n",
      "₹12,999\n",
      "₹7,699\n",
      "₹18,299\n",
      "₹15,999\n",
      "₹10,999\n",
      "₹11,999\n",
      "₹11,999\n",
      "₹10,999\n",
      "₹29,999\n",
      "₹6,499\n",
      "₹9,499\n",
      "₹8,499\n",
      "₹22,999\n",
      "₹23,999\n",
      "₹7,499\n",
      "₹29,999\n",
      "₹6,499\n",
      "₹8,499\n",
      "₹13,999\n"
     ]
    }
   ],
   "source": [
    "product_prices = driver.find_elements(By.CLASS_NAME, 'Nx9bqj')\n",
    "for price in product_prices:\n",
    "    print(price.text)"
   ]
  },
  {
   "cell_type": "code",
   "execution_count": 23,
   "metadata": {},
   "outputs": [
    {
     "name": "stdout",
     "output_type": "stream",
     "text": [
      "Motorola Edge 50 Fusion (Marshmallow Blue, 256 GB) ₹24,999\n",
      "Motorola G34 5G (Ocean Green, 128 GB) ₹11,999\n",
      "Motorola G34 5G (Ice Blue, 128 GB) ₹11,999\n",
      "Motorola G34 5G (Charcoal Black, 128 GB) ₹11,999\n",
      "POCO M6 Pro 5G (Power Black, 128 GB) ₹9,999\n",
      "REDMI 13C (Stardust Black, 128 GB) ₹7,699\n",
      "POCO C65 (Matte Black, 128 GB) ₹6,799\n",
      "Motorola g64 5G (Ice Lilac, 128 GB) ₹13,999\n",
      "realme 12x 5G (Twilight Purple, 128 GB) ₹14,999\n",
      "POCO C65 (Pastel Blue, 128 GB) ₹6,799\n",
      "Motorola g64 5G (Mint Green, 128 GB) ₹13,999\n",
      "Motorola g04s (Satin Blue, 64 GB) ₹6,999\n",
      "realme 12x 5G (Twilight Purple, 128 GB) ₹12,999\n",
      "realme 12x 5G (Woodland Green, 128 GB) ₹12,999\n",
      "POCO C65 (Pastel Green, 128 GB) ₹6,799\n",
      "realme 12x 5G (Woodland Green, 128 GB) ₹14,999\n",
      "Motorola g64 5G (Pearl Blue, 256 GB) ₹15,999\n",
      "REDMI 13C (Starshine Green, 128 GB) ₹7,699\n",
      "Motorola g04s (Sea Green, 64 GB) ₹6,999\n",
      "Motorola g64 5G (Pearl Blue, 128 GB) ₹13,999\n",
      "Motorola g04s (Concord Black, 64 GB) ₹6,999\n",
      "OnePlus Nord CE 3 Lite 5G (Pastel Lime, 256 GB) ₹18,499\n",
      "Motorola G34 5G (Charcoal Black, 128 GB) ₹10,999\n",
      "OnePlus Nord CE 3 Lite 5G (Pastel Lime, 128 GB) ₹16,782\n",
      "POCO C65 (Pastel Blue, 128 GB) ₹7,499\n",
      "OnePlus Nord CE 3 Lite 5G (Chromatic Gray, 128 GB) ₹16,943\n",
      "SAMSUNG Galaxy F34 5G (Mystic Green, 128 GB) ₹12,999\n",
      "REDMI 13C (Starfrost White, 128 GB) ₹7,699\n",
      "OnePlus Nord CE 3 Lite 5G (Chromatic Gray, 256 GB) ₹18,299\n",
      "Motorola g64 5G (Mint Green, 256 GB) ₹15,999\n",
      "Motorola G34 5G (Ice Blue, 128 GB) ₹10,999\n",
      "realme 12x 5G (Woodland Green, 128 GB) ₹11,999\n",
      "realme 12x 5G (Twilight Purple, 128 GB) ₹11,999\n",
      "Motorola G34 5G (Ocean Green, 128 GB) ₹10,999\n",
      "Motorola Edge 50 Pro 5G with 68W Charger (Black Beauty,... ₹29,999\n",
      "POCO C61 (Ethereal Blue, 64 GB) ₹6,499\n",
      "POCO M6 Pro 5G (Power Black, 128 GB) ₹9,499\n",
      "REDMI 13C (Stardust Black, 128 GB) ₹8,499\n",
      "Motorola Edge 50 Fusion (Marshmallow Blue, 128 GB) ₹22,999\n",
      "vivo T2 Pro 5G (Dune Gold, 256 GB) ₹23,999\n"
     ]
    }
   ],
   "source": [
    "thisdict = {}\n",
    "\n",
    "product_names = driver.find_elements(By.CLASS_NAME, 'wjcEIp')\n",
    "product_prices = driver.find_elements(By.CLASS_NAME, 'Nx9bqj')\n",
    "\n",
    "\n",
    "for index, item in enumerate(product_names, 0):\n",
    "    thisdict.update({item : product_prices[index]})\n",
    "\n",
    "\n",
    "for x, y in thisdict.items():\n",
    "    print(x.text, y.text)"
   ]
  }
 ],
 "metadata": {
  "kernelspec": {
   "display_name": "Python 3",
   "language": "python",
   "name": "python3"
  },
  "language_info": {
   "codemirror_mode": {
    "name": "ipython",
    "version": 3
   },
   "file_extension": ".py",
   "mimetype": "text/x-python",
   "name": "python",
   "nbconvert_exporter": "python",
   "pygments_lexer": "ipython3",
   "version": "3.11.4"
  }
 },
 "nbformat": 4,
 "nbformat_minor": 2
}
